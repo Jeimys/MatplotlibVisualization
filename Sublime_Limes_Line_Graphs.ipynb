{
 "cells": [
  {
   "cell_type": "markdown",
   "id": "f4ea990b",
   "metadata": {},
   "source": [
    "## Sublime Limes' Line Graphs\n",
    "\n",
    "Project by Codecademy\n",
    "\n",
    "In this project, you will be acting as a data analyst for an online lime retailer called Sublime Limes. People all over the world can use this product to get the freshest, best-quality limes delivered to their door. One of the product managers at Sublime Limes would like to gain insight into the customers and their sales habits. Using Matplotlib, you’ll create some different line graphs (or maybe, lime graphs) to communicate this information effectively."
   ]
  },
  {
   "cell_type": "markdown",
   "id": "f9d2ec96",
   "metadata": {},
   "source": [
    "1. We have provided some data in different lists. Look through these lists and try to understand what each one represents."
   ]
  },
  {
   "cell_type": "code",
   "execution_count": 1,
   "id": "07f25e02",
   "metadata": {},
   "outputs": [],
   "source": [
    "from matplotlib import pyplot as plt\n",
    "\n",
    "months = [\"Jan\", \"Feb\", \"Mar\", \"Apr\", \"May\", \"Jun\", \"Jul\", \"Aug\", \"Sep\", \"Oct\", \"Nov\", \"Dec\"]\n",
    "\n",
    "visits_per_month = [9695, 7909, 10831, 12942, 12495, 16794, 14161, 12762, 12777, 12439, 10309, 8724]\n",
    "\n",
    "# numbers of limes of different species sold each month\n",
    "key_limes_per_month = [92.0, 109.0, 124.0, 70.0, 101.0, 79.0, 106.0, 101.0, 103.0, 90.0, 102.0, 106.0]\n",
    "persian_limes_per_month = [67.0, 51.0, 57.0, 54.0, 83.0, 90.0, 52.0, 63.0, 51.0, 44.0, 64.0, 78.0]\n",
    "blood_limes_per_month = [75.0, 75.0, 76.0, 71.0, 74.0, 77.0, 69.0, 80.0, 63.0, 69.0, 73.0, 82.0]"
   ]
  },
  {
   "cell_type": "markdown",
   "id": "f2a2c229",
   "metadata": {},
   "source": [
    "2. Create a figure of width 12 and height 8."
   ]
  },
  {
   "cell_type": "code",
   "execution_count": null,
   "id": "b879a64d",
   "metadata": {},
   "outputs": [],
   "source": []
  },
  {
   "cell_type": "markdown",
   "id": "fe06935c",
   "metadata": {},
   "source": [
    "3. We are going to make two charts in one figure, laid out side-by-side. In other words, the figure will have one row and two columns. Write the command to create the left subplot (the one that would correspond to the plot with a star in our example figure). Save this subplot in a variable called ax1."
   ]
  },
  {
   "cell_type": "code",
   "execution_count": null,
   "id": "824eac4d",
   "metadata": {},
   "outputs": [],
   "source": []
  },
  {
   "cell_type": "markdown",
   "id": "379e9fb1",
   "metadata": {},
   "source": [
    "4. Write the command to create the right subplot (the one that would correspond to the plot with a square in our example figure). Save this subplot in a variable called ax2."
   ]
  },
  {
   "cell_type": "code",
   "execution_count": null,
   "id": "7953ad69",
   "metadata": {},
   "outputs": [],
   "source": []
  },
  {
   "cell_type": "markdown",
   "id": "559f5f03",
   "metadata": {},
   "source": [
    "5. In the left subplot, we are going to plot the total page visits over the past year as a line. First, let’s create the list of x-values, which is range(len(months)). Store this in a variable called x_values. Make sure this happens after the line where you created ax1, but before the line where you’ve created ax2, so that the plot goes in the subplot on the left."
   ]
  },
  {
   "cell_type": "code",
   "execution_count": null,
   "id": "541bbe91",
   "metadata": {},
   "outputs": [],
   "source": []
  },
  {
   "cell_type": "markdown",
   "id": "958f2b15",
   "metadata": {},
   "source": [
    "6. Plot the total page visits against these x_values as a line."
   ]
  },
  {
   "cell_type": "code",
   "execution_count": null,
   "id": "1f2c38d3",
   "metadata": {},
   "outputs": [],
   "source": []
  },
  {
   "cell_type": "markdown",
   "id": "252e22ae",
   "metadata": {},
   "source": [
    "7. Give the line markers that will help show each month as a distinct value."
   ]
  },
  {
   "cell_type": "code",
   "execution_count": null,
   "id": "d256b89f",
   "metadata": {},
   "outputs": [],
   "source": []
  },
  {
   "cell_type": "markdown",
   "id": "3eaf323b",
   "metadata": {},
   "source": [
    "8. Label the x-axis and y-axis with descriptive titles of what they measure."
   ]
  },
  {
   "cell_type": "code",
   "execution_count": null,
   "id": "b7c49965",
   "metadata": {},
   "outputs": [],
   "source": []
  },
  {
   "cell_type": "markdown",
   "id": "48553bf5",
   "metadata": {},
   "source": [
    "9. Set the x-axis ticks to be the x_values."
   ]
  },
  {
   "cell_type": "code",
   "execution_count": null,
   "id": "97f9f2a7",
   "metadata": {},
   "outputs": [],
   "source": []
  },
  {
   "cell_type": "markdown",
   "id": "aa5ec61f",
   "metadata": {},
   "source": [
    "10. Label the x-axis tick labels to be the names stored in the months list."
   ]
  },
  {
   "cell_type": "code",
   "execution_count": null,
   "id": "1fc91abc",
   "metadata": {},
   "outputs": [],
   "source": []
  },
  {
   "cell_type": "markdown",
   "id": "1be4b2b3",
   "metadata": {},
   "source": [
    "11. In the subplot on the right, we are going to plot three lines on the same set of axes. The x-values for all three lines will correspond to the months, so we can use the list of x_values we used for the last plot.\n",
    "\n",
    "On one plot, create the three lines:\n",
    "- number of key limes sold vs x_values\n",
    "- number of Persian limes sold vs x_values\n",
    "- number of blood limes sold vs x_values\n",
    "Make sure this happens after the line where you created ax2, so that it goes in the subplot on the right."
   ]
  },
  {
   "cell_type": "code",
   "execution_count": null,
   "id": "c9c4d935",
   "metadata": {},
   "outputs": [],
   "source": []
  },
  {
   "cell_type": "markdown",
   "id": "967eb6ae",
   "metadata": {},
   "source": [
    "12. Give each line a specific color of your choosing."
   ]
  },
  {
   "cell_type": "code",
   "execution_count": null,
   "id": "24f619d3",
   "metadata": {},
   "outputs": [],
   "source": []
  },
  {
   "cell_type": "markdown",
   "id": "cb1fbde4",
   "metadata": {},
   "source": [
    "13. Add a legend to differentiate the lines, labeling each lime species."
   ]
  },
  {
   "cell_type": "code",
   "execution_count": null,
   "id": "c23e78a2",
   "metadata": {},
   "outputs": [],
   "source": []
  },
  {
   "cell_type": "markdown",
   "id": "79550f9c",
   "metadata": {},
   "source": [
    "14. Set the x-axis ticks to be the x_values, and the tick labels to be the months list."
   ]
  },
  {
   "cell_type": "code",
   "execution_count": null,
   "id": "b6c18d4f",
   "metadata": {},
   "outputs": [],
   "source": []
  },
  {
   "cell_type": "markdown",
   "id": "1207a500",
   "metadata": {},
   "source": [
    "15. Add a title to each of the two plots you’ve created, and adjust the margins to make the text you’ve added look better."
   ]
  },
  {
   "cell_type": "code",
   "execution_count": null,
   "id": "01586553",
   "metadata": {},
   "outputs": [],
   "source": []
  },
  {
   "cell_type": "markdown",
   "id": "3aca6525",
   "metadata": {},
   "source": [
    "16. Now, save your figure as a png with a descriptive file name."
   ]
  },
  {
   "cell_type": "code",
   "execution_count": null,
   "id": "d38fe028",
   "metadata": {},
   "outputs": [],
   "source": []
  }
 ],
 "metadata": {
  "kernelspec": {
   "display_name": "Python 3 (ipykernel)",
   "language": "python",
   "name": "python3"
  },
  "language_info": {
   "codemirror_mode": {
    "name": "ipython",
    "version": 3
   },
   "file_extension": ".py",
   "mimetype": "text/x-python",
   "name": "python",
   "nbconvert_exporter": "python",
   "pygments_lexer": "ipython3",
   "version": "3.9.12"
  }
 },
 "nbformat": 4,
 "nbformat_minor": 5
}
